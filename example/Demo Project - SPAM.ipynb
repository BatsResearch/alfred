{
 "cells": [
  {
   "cell_type": "markdown",
   "id": "0ff3aa6d",
   "metadata": {},
   "source": [
    "# Annontation Task Demo Project\n",
    "\n",
    "Here we showcase a project where the user uses alfred to annotate a dataset with multiple prompts.\n",
    "We follow the experiment setup described in Smith et al. 2022.\n",
    "\n",
    "Ref:\n",
    "Smith, R., Fries, J. A., Hancock, B., & Bach, S. H. (2022). Language models in the loop: Incorporating prompting into weak supervision. arXiv preprint arXiv:2205.02318."
   ]
  },
  {
   "cell_type": "markdown",
   "id": "a63ef0bc",
   "metadata": {},
   "source": [
    "## 1. Load Dataset"
   ]
  },
  {
   "cell_type": "code",
   "execution_count": null,
   "id": "e7f6c882",
   "metadata": {},
   "outputs": [],
   "source": [
    "from alfred.data.wrench import WrenchBenchmarkDataset\n",
    "\n",
    "youtube_train = WrenchBenchmarkDataset(\n",
    "                                dataset_name='youtube',\n",
    "                                split='train',\n",
    "                                local_path=\"/data/Datasets/wrench/\"\n",
    "                            )\n",
    "\n",
    "true_labels = np.array(youtube_train.labels)"
   ]
  },
  {
   "cell_type": "markdown",
   "id": "bb04569e",
   "metadata": {},
   "source": [
    "## 2. Run an Alfred Client"
   ]
  },
  {
   "cell_type": "code",
   "execution_count": null,
   "id": "18af9f3e",
   "metadata": {
    "scrolled": true
   },
   "outputs": [],
   "source": [
    "from alfred.client import Client\n",
    "\n",
    "\n",
    "T0pp = Client(end_point=\"\", ssh_tunnel=True, ssh_node=\"\")"
   ]
  },
  {
   "cell_type": "markdown",
   "id": "9429b57f",
   "metadata": {},
   "source": [
    "## 3. Develop the labeling prompts and their voters\n",
    "\n",
    "We know that each of the prompts will either vote yes for spam or non-spam and no otherwise. For convience, we only need two voters"
   ]
  },
  {
   "cell_type": "code",
   "execution_count": null,
   "id": "2e2032d5",
   "metadata": {},
   "outputs": [],
   "source": [
    "from alfred.template import StringTemplate\n",
    "from alfred.voter import Voter\n",
    "\n",
    "yes_voter = Voter(\n",
    "    label_map = {'yes': 2},\n",
    "    matching_fn = lambda x, y: x == y,\n",
    ")\n",
    "\n",
    "no_voter = Voter(\n",
    "    label_map = {'yes': 1},\n",
    "    matching_fn = lambda x, y: x == y,\n",
    ")\n",
    "\n",
    "voters = []"
   ]
  },
  {
   "cell_type": "code",
   "execution_count": null,
   "id": "42aeb944",
   "metadata": {},
   "outputs": [],
   "source": [
    "channel_reference_template = StringTemplate(\n",
    "    template = \"\"\"Does the following comment reference the speaker’s channel or video?\\n\\n\\\"[[text]]\\\"\"\"\",\n",
    "    answer_choices = \"yes ||| no\",\n",
    ")\n",
    "\n",
    "voters.append(yes_voter)"
   ]
  },
  {
   "cell_type": "code",
   "execution_count": null,
   "id": "0a0ae5ef",
   "metadata": {},
   "outputs": [],
   "source": [
    "subscribe_template = StringTemplate(\n",
    "    template = \"\"\"Does the following comment ask you to subscribe to a channel?\\n\\n\\\"[[text]]\\\"\"\"\",\n",
    "    answer_choices = \"yes ||| no\",\n",
    ")\n",
    "\n",
    "voters.append(yes_voter)"
   ]
  },
  {
   "cell_type": "code",
   "execution_count": null,
   "id": "06c8109f",
   "metadata": {},
   "outputs": [],
   "source": [
    "url_template = StringTemplate(\n",
    "    template = \"\"\"Does the following comment have a URL?\\n\\n\\\"[[text]]\\\"\"\"\",\n",
    "    answer_choices = \"yes ||| no\",\n",
    ")\n",
    "\n",
    "voters.append(yes_voter)"
   ]
  },
  {
   "cell_type": "code",
   "execution_count": null,
   "id": "e66e5c6a",
   "metadata": {},
   "outputs": [],
   "source": [
    "reader_action_template = StringTemplate(\n",
    "    template = \"\"\"Does the following comment ask the reader to do something?\\n\\n\\\"[[text]]\\\"\"\"\",\n",
    "    answer_choices = \"yes ||| no\",\n",
    ")\n",
    "\n",
    "voters.append(yes_voter)"
   ]
  },
  {
   "cell_type": "code",
   "execution_count": null,
   "id": "8461371e",
   "metadata": {},
   "outputs": [],
   "source": [
    "song_template = StringTemplate(\n",
    "    template = \"\"\"Does the following comment talk about a song?\\n\\n\\\"[[text]]\\\"\"\"\",\n",
    "    answer_choices = \"yes ||| no\",\n",
    ")\n",
    "\n",
    "voters.append(no_voter)"
   ]
  },
  {
   "cell_type": "code",
   "execution_count": null,
   "id": "bf7d68fc",
   "metadata": {},
   "outputs": [],
   "source": [
    "checkout_template = StringTemplate(\n",
    "    template = \"\"\"Does the following comment contain the words \"check out\"? \\n\\n\\\"[[text]]\\\"\"\"\",\n",
    "    answer_choices = \"yes ||| no\",\n",
    ")\n",
    "\n",
    "voters.append(yes_voter)"
   ]
  },
  {
   "cell_type": "code",
   "execution_count": null,
   "id": "3ded2012",
   "metadata": {},
   "outputs": [],
   "source": [
    "five_words_template = StringTemplate(\n",
    "    template = \"\"\"Is the following comment fewer than 5 words?\\n\\n\\\"[[text]]\\\"\"\"\",\n",
    "    answer_choices = \"yes ||| no\",\n",
    ")\n",
    "\n",
    "voters.append(no_voter)"
   ]
  },
  {
   "cell_type": "code",
   "execution_count": null,
   "id": "36fe7cf2",
   "metadata": {},
   "outputs": [],
   "source": [
    "name_mention_template = StringTemplate(\n",
    "    template = \"\"\"Does the following comment mention a person’s name?\\n\\n\\\"[[text]]\\\"\"\"\",\n",
    "    answer_choices = \"yes ||| no\",\n",
    ")\n",
    "\n",
    "voters.append(no_voter)"
   ]
  },
  {
   "cell_type": "code",
   "execution_count": null,
   "id": "1da97ded",
   "metadata": {},
   "outputs": [],
   "source": [
    "strong_sentiment_template = StringTemplate(\n",
    "    template = \"\"\"Does the following comment express a very strong sentiment?\\n\\n\\\"[[text]]\\\"\"\"\",\n",
    "    answer_choices = \"yes ||| no\",\n",
    ")\n",
    "\n",
    "voters.append(no_voter)"
   ]
  },
  {
   "cell_type": "code",
   "execution_count": null,
   "id": "7e1e4466",
   "metadata": {},
   "outputs": [],
   "source": [
    "subjective_op_template = StringTemplate(\n",
    "    template = \"\"\"Does the following comment express a subjective opinion?\\n\\n\\\"[[text]]\\\"\"\"\",\n",
    "    answer_choices = \"yes ||| no\",\n",
    ")\n",
    "\n",
    "voters.append(no_voter)"
   ]
  },
  {
   "cell_type": "markdown",
   "id": "3c15258a",
   "metadata": {},
   "source": [
    "### Now we have all the prompt templates and their accompanying voters, lets use them to annotate the training set!"
   ]
  },
  {
   "cell_type": "code",
   "execution_count": null,
   "id": "cf7e40ad",
   "metadata": {
    "scrolled": true
   },
   "outputs": [],
   "source": [
    "templates = [\n",
    "    channel_reference_template,\n",
    "    subscribe_template,\n",
    "    url_template,\n",
    "    reader_action_template,\n",
    "    song_template,\n",
    "    checkout_template,\n",
    "    five_words_template,\n",
    "    name_mention_template,\n",
    "    strong_sentiment_template,\n",
    "    subjective_op_template\n",
    "]\n",
    "\n",
    "print(f\"We have {len(templates)} templates!\")"
   ]
  },
  {
   "cell_type": "code",
   "execution_count": null,
   "id": "ab93c8c5",
   "metadata": {},
   "outputs": [],
   "source": [
    "import numpy as np\n",
    "from tqdm.auto import tqdm\n",
    "\n",
    "votes = np.zeros([len(youtube_train), len(templates)])\n",
    "\n",
    "model_responses = []        \n",
    "\n",
    "for template_id, template in enumerate(templates):\n",
    "    prompts = template.apply_to_dataset(youtube_train)\n",
    "    responses = T0pp(prompts)\n",
    "    model_responses.append(responses)\n",
    "    votes[:, template_id] = voters[template_id].vote(responses)"
   ]
  },
  {
   "cell_type": "markdown",
   "id": "c5e53c67",
   "metadata": {},
   "source": [
    "### Finally, lets use Label Model to get a consensus!"
   ]
  },
  {
   "cell_type": "code",
   "execution_count": null,
   "id": "3dcb1be7",
   "metadata": {},
   "outputs": [],
   "source": [
    "# Per standard PWS practice, we only use the instances that has at least one non-abstaining vote\n",
    "def filter_useful(votes):\n",
    "    _sum_votes = np.sum(votes, axis=1)\n",
    "    useful_idx = np.where(_sum_votes != 0)[0]\n",
    "    useful_votes = votes[useful_idx]\n",
    "    return useful_votes, useful_idx"
   ]
  },
  {
   "cell_type": "code",
   "execution_count": null,
   "id": "a0dcceae",
   "metadata": {},
   "outputs": [],
   "source": [
    "from alfred.labeling.naive_bayes import NaiveBayes\n",
    "\n",
    "nblm = NaiveBayes(2, 10)"
   ]
  },
  {
   "cell_type": "code",
   "execution_count": null,
   "id": "97512d67",
   "metadata": {},
   "outputs": [],
   "source": [
    "nb_votes, useful_idx = filter_useful(votes)\n",
    "\n",
    "nblabels = nblm(nb_votes)"
   ]
  },
  {
   "cell_type": "code",
   "execution_count": null,
   "id": "24f05673",
   "metadata": {},
   "outputs": [],
   "source": [
    "accuracy_score(true_labels[useful_idx], nblabels.argmax(-1))"
   ]
  },
  {
   "cell_type": "code",
   "execution_count": null,
   "id": "74e066bd",
   "metadata": {},
   "outputs": [],
   "source": [
    "# Let us try calibrate the voters!\n",
    "calib_voters = [Voter(label_map={'yes': 2}) if voter==yes_voter else Voter(label_map={'yes': 1}) for voter in voters]"
   ]
  },
  {
   "cell_type": "code",
   "execution_count": null,
   "id": "b95b2fbb",
   "metadata": {},
   "outputs": [],
   "source": [
    "calib_votes = np.zeros([len(youtube_train), len(templates)])\n",
    "for t_idx, template in enumerate(tqdm(templates)):\n",
    "    T0pp.calibrate(template, voter=calib_voters[t_idx])\n",
    "    calib_votes[:, template_id] = voters[template_id].vote(model_responses[t_idx])"
   ]
  },
  {
   "cell_type": "code",
   "execution_count": null,
   "id": "f1d6317a",
   "metadata": {},
   "outputs": [],
   "source": [
    "nb_votes_calibrated, useful_idx_calibrated = filter_useful(calib_votes)\n",
    "\n",
    "nblabels_calibrated = nblm(nb_votes_calibrated)"
   ]
  },
  {
   "cell_type": "code",
   "execution_count": null,
   "id": "f4d41e22",
   "metadata": {},
   "outputs": [],
   "source": [
    "accuracy_score(true_labels[useful_idx_calibrated], nblabels_calibrated.argmax(-1))"
   ]
  },
  {
   "cell_type": "code",
   "execution_count": null,
   "id": "10b7e48d",
   "metadata": {},
   "outputs": [],
   "source": [
    "# Lets try to see the results by label prompting alone\n",
    "zsl_template = StringTemplate(\n",
    "    template = \"\"\"Is the following comment a SPAM?\\n\\n[[text]]\"\"\",\n",
    "    answer_choices = \"yes ||| no\",\n",
    ")\n",
    "\n",
    "zsl_voter = Voter({'no':1, 'yes':2})\n",
    "zsl_prompts = zsl_template.apply_to_dataset(youtube_train)\n",
    "zsl_responses = T0pp(zsl_prompts)\n",
    "zsl_votes = zsl_voter.vote(zsl_responses)\n",
    "accuracy_score(youtube_train.labels, zsl_votes-1)"
   ]
  }
 ],
 "metadata": {
  "kernelspec": {
   "display_name": "Python 3",
   "language": "python",
   "name": "python3"
  },
  "language_info": {
   "codemirror_mode": {
    "name": "ipython",
    "version": 3
   },
   "file_extension": ".py",
   "mimetype": "text/x-python",
   "name": "python",
   "nbconvert_exporter": "python",
   "pygments_lexer": "ipython3",
   "version": "3.8.3"
  }
 },
 "nbformat": 4,
 "nbformat_minor": 5
}
