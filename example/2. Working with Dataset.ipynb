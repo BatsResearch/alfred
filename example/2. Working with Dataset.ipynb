{
 "cells": [
  {
   "cell_type": "markdown",
   "id": "f103e047",
   "metadata": {},
   "source": [
    "# Working with Dataset\n",
    "\n",
    "\n",
    "`Alfred` incorporates a Dataset abstraction based on Apache Arrow. Additionally, `Alfred` provides direct support for `datasets` pacakge by HuggingFace. In this tutorial, we will demonstrate how users can annotate AGNews Test from `datasets` using a T0pp model."
   ]
  },
  {
   "cell_type": "code",
   "execution_count": null,
   "id": "013a1017",
   "metadata": {},
   "outputs": [],
   "source": [
    "from datasets import load_dataset\n",
    "\n",
    "agnews_test = load_dataset(\"ag_news\", split='test')\n",
    "agnews_test_labels = [ins['label'] for ins in agnews_test]\n",
    "agnews_labels = [\"Politics\", \"Sports\", \"Business\", \"Sicence and Technology\"]"
   ]
  },
  {
   "cell_type": "code",
   "execution_count": null,
   "id": "6bb8399c",
   "metadata": {},
   "outputs": [],
   "source": [
    "from alfred.template import StringTemplate\n",
    "\n",
    "label_template = StringTemplate(\n",
    "    \"\"\"[[text]]\\nWhat is the type of the above news?\"\"\",\n",
    "    answer_choices = agnews_labels\n",
    ")\n",
    "\n",
    "queries = label_template.apply_to_dataset(agnews_test)"
   ]
  },
  {
   "cell_type": "code",
   "execution_count": null,
   "id": "59e772ec",
   "metadata": {},
   "outputs": [],
   "source": [
    "from alfred.client import Client\n",
    "\n",
    "t0pp = Client(end_point=\"\", ssh_tunnel=True, ssh_node=\"\")"
   ]
  },
  {
   "cell_type": "code",
   "execution_count": null,
   "id": "10f779d5",
   "metadata": {},
   "outputs": [],
   "source": [
    "responses = t0pp(queries)"
   ]
  },
  {
   "cell_type": "code",
   "execution_count": null,
   "id": "9620e76b",
   "metadata": {},
   "outputs": [],
   "source": [
    "from alfred.voter import Voter\n",
    "\n",
    "agnews_labelvoter = Voter(label_map={\"Politics\":0, \"Sports\":1, \"Business\":2, \"Sicence and Technology\":3})\n",
    "agnews_test_label_infered = agnews_labelvoter.vote(responses)"
   ]
  },
  {
   "cell_type": "code",
   "execution_count": null,
   "id": "03c6841f",
   "metadata": {},
   "outputs": [],
   "source": [
    "from sklearn.metrics import accuracy_score\n",
    "\n",
    "print(accuracy_score(agnews_test_labels, y_pred=agnews_test_label_infered))"
   ]
  }
 ],
 "metadata": {
  "kernelspec": {
   "display_name": "Python 3",
   "language": "python",
   "name": "python3"
  },
  "language_info": {
   "codemirror_mode": {
    "name": "ipython",
    "version": 3
   },
   "file_extension": ".py",
   "mimetype": "text/x-python",
   "name": "python",
   "nbconvert_exporter": "python",
   "pygments_lexer": "ipython3",
   "version": "3.8.3"
  }
 },
 "nbformat": 4,
 "nbformat_minor": 5
}
