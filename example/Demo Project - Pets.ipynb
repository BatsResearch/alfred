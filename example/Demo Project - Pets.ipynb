{
 "cells": [
  {
   "cell_type": "code",
   "execution_count": null,
   "id": "acdf8d9d",
   "metadata": {},
   "outputs": [],
   "source": [
    "from torchvision.datasets import OxfordIIITPet\n",
    "\n",
    "oxford_pet = OxfordIIITPet(\"<dataset_loc>/OxfordPets\", download=True, split=\"trainval\")\n",
    "\n",
    "imgs = []\n",
    "labels = []\n",
    "classes = oxford_pet.classes\n",
    "\n",
    "for inst in oxford_pet:\n",
    "    imgs.append(inst[0])\n",
    "    labels.append(inst[1])"
   ]
  },
  {
   "cell_type": "code",
   "execution_count": null,
   "id": "c897eeda",
   "metadata": {
    "scrolled": true
   },
   "outputs": [],
   "source": [
    "dog_classes = [\n",
    " 'American Bulldog',\n",
    " 'American Pit Bull Terrier',\n",
    " 'Basset Hound',\n",
    " 'Beagle',\n",
    " 'Boxer',\n",
    " 'Chihuahua',\n",
    " 'English Cocker Spaniel',\n",
    " 'English Setter',\n",
    " 'German Shorthaired',\n",
    " 'Great Pyrenees',\n",
    " 'Havanese',\n",
    " 'Japanese Chin',\n",
    " 'Keeshond',\n",
    " 'Leonberger',\n",
    " 'Miniature Pinscher',\n",
    " 'Newfoundland',\n",
    " 'Pomeranian',\n",
    " 'Pug',\n",
    " 'Saint Bernard',\n",
    " 'Samoyed',\n",
    " 'Scottish Terrier',\n",
    " 'Shiba Inu',\n",
    " 'Staffordshire Bull Terrier',\n",
    " 'Wheaten Terrier',\n",
    " 'Yorkshire Terrier']\n",
    "cat_classes = list(set(classes) - set(dog_classes))\n",
    "\n",
    "\n",
    "bin_classes = ['dog', 'cat']\n",
    "binary_labels = [int(classes[x] not in dog_classes) for x in labels]\n",
    "\n",
    "annotated_classes = [classes[x] + ' dog' if  classes[x] in dog_classes else classes[x] + ' cat' for x in labels]\n"
   ]
  },
  {
   "cell_type": "code",
   "execution_count": null,
   "id": "d8bb8243",
   "metadata": {},
   "outputs": [],
   "source": [
    "from alfred import Client\n",
    "\n",
    "clip = Client(model_type=\"huggingfacevlm\", model=\"openai/clip-vit-large-patch14\")"
   ]
  },
  {
   "cell_type": "code",
   "execution_count": null,
   "id": "0bcaf8b5",
   "metadata": {},
   "outputs": [],
   "source": [
    "from alfred.template import ImageTemplate\n",
    "from alfred.voter import Voter\n",
    "\n",
    "import numpy as np"
   ]
  },
  {
   "cell_type": "code",
   "execution_count": null,
   "id": "795dba84",
   "metadata": {},
   "outputs": [],
   "source": [
    "label_prompt_0 = ImageTemplate({'label': classes}, \"a photo of a [[label]]\")\n",
    "label_voter_0 = Voter(label_map=oxford_pet.class_to_idx)\n",
    "\n",
    "label_prompt_1 = ImageTemplate({'ann_label': annotated_classes}, \"a photo of a [[ann_label]]\")\n",
    "label_voter_1 = Voter(label_map={ann_label:idx for idx, ann_label in enumerate(annotated_classes)})\n",
    "\n",
    "bin_prompt = ImageTemplate({'label': ['dog', 'cat']}, \"a photo of a [[label]]\")\n",
    "bin_voter = Voter(label_map={'dog':0, 'cat':1})\n",
    "\n",
    "voters = [label_voter_0, label_voter_1, bin_voter]"
   ]
  },
  {
   "cell_type": "code",
   "execution_count": null,
   "id": "b77e616d",
   "metadata": {},
   "outputs": [],
   "source": [
    "votes = np.zeros([len(imgs), 3])\n",
    "from voter in voters:\n",
    "    prompts = templates[voter_idx].apply_to_dataset(imgs)\n",
    "    resp = clip(prompts, batch_size=1024)\n",
    "    votes[voter_idx,:] = voter.vote(resp)"
   ]
  },
  {
   "cell_type": "code",
   "execution_count": null,
   "id": "4d1c2501",
   "metadata": {},
   "outputs": [],
   "source": [
    "from alfred.labeling import NPLM\n",
    "\n",
    "\n",
    "label_partition = {\n",
    "    0: [[x+1] for x in range(len(classes))],\n",
    "    1: [[x+1] for x in range(len(classes))],\n",
    "    2: [[classes.index(x)+1 for x in dog_classes], [classes.index(x)+1 for x in cat_classes]]\n",
    "}\n",
    "\n",
    "nplm = NPLM(len(classes), label_partition, 'cpu')"
   ]
  },
  {
   "cell_type": "code",
   "execution_count": null,
   "id": "5b6f81d7",
   "metadata": {},
   "outputs": [],
   "source": [
    "prob_label = nplm(votes)"
   ]
  },
  {
   "cell_type": "code",
   "execution_count": null,
   "id": "7f387b3f",
   "metadata": {},
   "outputs": [],
   "source": [
    "from sklearn.metrics import accuracy_score\n",
    "\n",
    "accuracy_score(labels, prob_label.argmax(-1))"
   ]
  }
 ],
 "metadata": {
  "kernelspec": {
   "display_name": "Python 3",
   "language": "python",
   "name": "python3"
  },
  "language_info": {
   "codemirror_mode": {
    "name": "ipython",
    "version": 3
   },
   "file_extension": ".py",
   "mimetype": "text/x-python",
   "name": "python",
   "nbconvert_exporter": "python",
   "pygments_lexer": "ipython3",
   "version": "3.8.3"
  }
 },
 "nbformat": 4,
 "nbformat_minor": 5
}
