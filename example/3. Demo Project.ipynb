{
 "cells": [
  {
   "cell_type": "markdown",
   "id": "4bfa2798",
   "metadata": {},
   "source": [
    "# Annontation Task Demo Project\n",
    "\n",
    "Here we showcase a project where the user uses alfred to annotate a dataset with multiple prompts\n",
    "We follow the experiment setup described in Smith et al. 2022.\n",
    "\n",
    "Ref:\n",
    "Smith, R., Fries, J. A., Hancock, B., & Bach, S. H. (2022). Language models in the loop: Incorporating prompting into weak supervision. arXiv preprint arXiv:2205.02318."
   ]
  },
  {
   "cell_type": "markdown",
   "id": "ca943110",
   "metadata": {},
   "source": [
    "## 1. Load Dataset"
   ]
  },
  {
   "cell_type": "code",
   "execution_count": null,
   "id": "dccfa470",
   "metadata": {},
   "outputs": [],
   "source": [
    "from alfred.data.wrench import WrenchBenchmarkDataset\n",
    "\n",
    "youtube_train = WrenchBenchmarkDataset(\n",
    "                                dataset_name='youtube',\n",
    "                                split='train',\n",
    "                                local_path=\"/data/Datasets/wrench/\"\n",
    "                            )"
   ]
  },
  {
   "cell_type": "markdown",
   "id": "248ff9e7",
   "metadata": {},
   "source": [
    "## 2. Run an Alfred Client"
   ]
  },
  {
   "cell_type": "code",
   "execution_count": null,
   "id": "c5b868dc",
   "metadata": {
    "scrolled": true
   },
   "outputs": [],
   "source": [
    "from alfred import Client\n",
    "\n",
    "\n",
    "T5 = Client(model_type='huggingface', model='t5-small')"
   ]
  },
  {
   "cell_type": "markdown",
   "id": "fc505e09",
   "metadata": {},
   "source": [
    "## 3. Develop the labeling prompts and their voters\n",
    "\n",
    "We know that each of the prompts will either vote yes for spam or non-spam and no otherwise. For convience, we only need two voters"
   ]
  },
  {
   "cell_type": "code",
   "execution_count": null,
   "id": "c4f9cfee",
   "metadata": {},
   "outputs": [],
   "source": [
    "from alfred.template import StringTemplate\n",
    "from alfred.voter import Voter\n",
    "\n",
    "\n",
    "label2idx = {\"SPAM\":1, \"HAM\":0}\n",
    "\n",
    "yes_voter = Voter(\n",
    "    label_map = {'yes': 1, 'no': 0},\n",
    "    matching_fn = lambda x, y: x == y,\n",
    ")\n",
    "\n",
    "no_voter = Voter(\n",
    "    label_map = {'no': 1, 'yes': 0},\n",
    "    matching_fn = lambda x, y: x == y,\n",
    ")\n",
    "\n",
    "voters = []"
   ]
  },
  {
   "cell_type": "code",
   "execution_count": null,
   "id": "b7c29b8a",
   "metadata": {},
   "outputs": [],
   "source": [
    "channel_reference_template = StringTemplate(\n",
    "    template = \"\"\"Does the following comment reference the speaker’s channel or video?\\n\\n[[text]]\"\"\",\n",
    "    answer_choices = \"yes ||| no\",\n",
    ")\n",
    "\n",
    "voters.append(yes_voter)"
   ]
  },
  {
   "cell_type": "code",
   "execution_count": null,
   "id": "b282b800",
   "metadata": {},
   "outputs": [],
   "source": [
    "subscribe_template = StringTemplate(\n",
    "    template = \"\"\"Does the following comment ask you to subscribe to a channel?\\n\\n[[text]]\"\"\",\n",
    "    answer_choices = \"yes ||| no\",\n",
    ")\n",
    "\n",
    "voters.append(yes_voter)"
   ]
  },
  {
   "cell_type": "code",
   "execution_count": null,
   "id": "553000d1",
   "metadata": {},
   "outputs": [],
   "source": [
    "url_template = StringTemplate(\n",
    "    template = \"\"\"Does the following comment have a URL?\\n\\n[[text]]\"\"\",\n",
    "    answer_choices = \"yes ||| no\",\n",
    ")\n",
    "\n",
    "voters.append(yes_voter)"
   ]
  },
  {
   "cell_type": "code",
   "execution_count": null,
   "id": "c6183010",
   "metadata": {},
   "outputs": [],
   "source": [
    "reader_action_template = StringTemplate(\n",
    "    template = \"\"\"Does the following comment ask the reader to do something?\\n\\n[[text]]\"\"\",\n",
    "    answer_choices = \"yes ||| no\",\n",
    ")\n",
    "\n",
    "voters.append(yes_voter)"
   ]
  },
  {
   "cell_type": "code",
   "execution_count": null,
   "id": "fdbbe4f4",
   "metadata": {},
   "outputs": [],
   "source": [
    "song_template = StringTemplate(\n",
    "    template = \"\"\"Does the following comment talk about a song?\\n\\n[[text]]\"\"\",\n",
    "    answer_choices = \"yes ||| no\",\n",
    ")\n",
    "\n",
    "voters.append(no_voter)"
   ]
  },
  {
   "cell_type": "code",
   "execution_count": null,
   "id": "d6bac382",
   "metadata": {},
   "outputs": [],
   "source": [
    "checkout_template = StringTemplate(\n",
    "    template = \"\"\"Does the following comment contain the words \"check out\"? \\n\\n[[text]]\"\"\",\n",
    "    answer_choices = \"yes ||| no\",\n",
    ")\n",
    "\n",
    "voters.append(yes_voter)"
   ]
  },
  {
   "cell_type": "code",
   "execution_count": null,
   "id": "0a4cc885",
   "metadata": {},
   "outputs": [],
   "source": [
    "five_words_template = StringTemplate(\n",
    "    template = \"\"\"Is the following comment fewer than 5 words?\\n\\n[[text]]\"\"\",\n",
    "    answer_choices = \"yes ||| no\",\n",
    ")\n",
    "\n",
    "voters.append(no_voter)"
   ]
  },
  {
   "cell_type": "code",
   "execution_count": null,
   "id": "c1e4ea94",
   "metadata": {},
   "outputs": [],
   "source": [
    "name_mention_template = StringTemplate(\n",
    "    template = \"\"\"Does the following comment mention a person’s name?\\n\\n[[text]]\"\"\",\n",
    "    answer_choices = \"yes ||| no\",\n",
    ")\n",
    "\n",
    "voters.append(no_voter)"
   ]
  },
  {
   "cell_type": "code",
   "execution_count": null,
   "id": "5f585c28",
   "metadata": {},
   "outputs": [],
   "source": [
    "strong_sentiment_template = StringTemplate(\n",
    "    template = \"\"\"Does the following comment express a very strong sentiment?\\n\\n[[text]]\"\"\",\n",
    "    answer_choices = \"yes ||| no\",\n",
    ")\n",
    "\n",
    "voters.append(no_voter)"
   ]
  },
  {
   "cell_type": "code",
   "execution_count": null,
   "id": "fcd27e77",
   "metadata": {},
   "outputs": [],
   "source": [
    "subjective_op_template = StringTemplate(\n",
    "    template = \"\"\"Does the following comment express a subjective opinion?\\n\\n[text]\"\"\",\n",
    "    answer_choices = \"yes ||| no\",\n",
    ")\n",
    "\n",
    "voters.append(no_voter)"
   ]
  },
  {
   "cell_type": "markdown",
   "id": "a6bb3503",
   "metadata": {},
   "source": [
    "### Now we have all the prompt templates and their accompanying voters, lets use them to annotate the training set!"
   ]
  },
  {
   "cell_type": "code",
   "execution_count": null,
   "id": "a6d1f922",
   "metadata": {
    "scrolled": true
   },
   "outputs": [],
   "source": [
    "templates = [\n",
    "    channel_reference_template,\n",
    "    subscribe_template,\n",
    "    url_template,\n",
    "    reader_action_template,\n",
    "    song_template,\n",
    "    checkout_template,\n",
    "    five_words_template,\n",
    "    name_mention_template,\n",
    "    strong_sentiment_template,\n",
    "    subjective_op_template\n",
    "]\n",
    "\n",
    "print(f\"We have {len(templates)} templates!\")"
   ]
  },
  {
   "cell_type": "code",
   "execution_count": null,
   "id": "b40ab1f4",
   "metadata": {},
   "outputs": [],
   "source": [
    "import numpy as np\n",
    "from tqdm.auto import tqdm\n",
    "\n",
    "votes = np.zeros([len(youtube_train), len(templates)])\n",
    "\n",
    "model_responses = []        \n",
    "\n",
    "for template_id, template in enumerate(tqdm(templates)):\n",
    "    prompts = template.apply_to_dataset(youtube_train)\n",
    "    responses = T5(prompts, no_tqdm=True)\n",
    "    model_responses.append(responses)\n",
    "    votes[:, template_id] = voters[template_id].vote(responses)"
   ]
  },
  {
   "cell_type": "markdown",
   "id": "dcaa0f6c",
   "metadata": {},
   "source": [
    "### Finally, lets use Majority Vote to get a consensus!"
   ]
  },
  {
   "cell_type": "code",
   "execution_count": null,
   "id": "78dfbcc6",
   "metadata": {},
   "outputs": [],
   "source": [
    "from alfred.labeling import MajorityVote\n",
    "\n",
    "mv_lm = MajorityVote()\n",
    "mv_labels = mv_lm(votes)"
   ]
  }
 ],
 "metadata": {
  "kernelspec": {
   "display_name": "Python 3",
   "language": "python",
   "name": "python3"
  },
  "language_info": {
   "codemirror_mode": {
    "name": "ipython",
    "version": 3
   },
   "file_extension": ".py",
   "mimetype": "text/x-python",
   "name": "python",
   "nbconvert_exporter": "python",
   "pygments_lexer": "ipython3",
   "version": "3.8.3"
  }
 },
 "nbformat": 4,
 "nbformat_minor": 5
}
