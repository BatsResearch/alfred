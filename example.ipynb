{
 "cells": [
  {
   "cell_type": "markdown",
   "id": "7b60f4d8",
   "metadata": {},
   "source": [
    "# Alfred Annontation Task Demo"
   ]
  },
  {
   "cell_type": "markdown",
   "id": "17207f95",
   "metadata": {},
   "source": [
    "## 1. Load Dataset!"
   ]
  },
  {
   "cell_type": "code",
   "execution_count": 45,
   "id": "e8618cbe",
   "metadata": {},
   "outputs": [],
   "source": [
    "from alfred.data.wrench import WrenchBenchmarkDataset\n",
    "\n",
    "youtube_train = WrenchBenchmarkDataset(\n",
    "                                dataset_name='youtube',\n",
    "                                split='test',\n",
    "                                local_path=\"/home/peilin/Dataset/wrench/\"\n",
    "                            )"
   ]
  },
  {
   "cell_type": "markdown",
   "id": "a45b6053",
   "metadata": {},
   "source": [
    "## 2. Write Templates!"
   ]
  },
  {
   "cell_type": "code",
   "execution_count": 46,
   "id": "17e8b9e7",
   "metadata": {},
   "outputs": [],
   "source": [
    "from alfred.template import StringTemplate\n",
    "\n",
    "\n",
    "video_template = StringTemplate(\n",
    "    template = \"\"\"Does the following comment reference the speaker’s channel or video?\\n\\n[text]\"\"\",\n",
    "    answer_choices = \"yes ||| no\",\n",
    "    label_maps = {'yes': 2},\n",
    ")\n",
    "\n",
    "prompts = [video_template.apply(instance) for instance in youtube_train]"
   ]
  },
  {
   "cell_type": "markdown",
   "id": "5f6574fd",
   "metadata": {},
   "source": [
    "## 3. Run an Alfred Client"
   ]
  },
  {
   "cell_type": "code",
   "execution_count": 47,
   "id": "66a00fba",
   "metadata": {},
   "outputs": [
    {
     "name": "stdout",
     "output_type": "stream",
     "text": [
      "\n",
      "\n",
      "Password: ········\n",
      "\n",
      "\n",
      "Duo two-factor login for pyu12\n",
      "\n",
      "Enter a passcode or select one of the following options:\n",
      "\n",
      " 1. Duo Push to XXX-XXX-0672\n",
      " 2. Duo Push to XXX-XXX-6788\n",
      " 3. Phone call to XXX-XXX-0672\n",
      " 4. Phone call to XXX-XXX-6788\n",
      " 5. SMS passcodes to XXX-XXX-0672\n",
      " 6. SMS passcodes to XXX-XXX-6788\n",
      "\n",
      "Passcode or option (1-6): 1\n",
      "\n",
      "\n"
     ]
    }
   ],
   "source": [
    "from alfred.client import Client\n",
    "\n",
    "\n",
    "T0pp = Client(end_point=\"pyu12@ssh.ccv.brown.edu:10719\", ssh_tunnel=True, ssh_node=\"gpu1404\")"
   ]
  },
  {
   "cell_type": "code",
   "execution_count": 48,
   "id": "00d82db0",
   "metadata": {},
   "outputs": [],
   "source": [
    "label2id = {'SPAM': 1, 'HAM': 0}\n",
    "\n",
    "ytb_prompts = \"\"\"Does the following comment reference the speaker’s channel or video?\\n\\n[text]\n",
    "||| Does the following comment ask you to subscribe to a channel?\\n\\n[text]\n",
    "||| Does the following comment have a URL?\\n\\n[text]\n",
    "||| Does the following comment ask the reader to do something?\\n\\n[text]\n",
    "||| Does the following comment talk about a song?\\n\\n[text]\n",
    "||| Does the following comment contain the words \"check out\"? \\n\\n[text]\n",
    "||| Is the following comment fewer than 5 words?\\n\\n[text]\n",
    "||| Does the following comment mention a person’s name?\\n\\n[text]\n",
    "||| Does the following comment express a very strong sentiment?\\n\\n[text]\n",
    "||| Does the following comment express a subjective opinion?\\n\\n[text]\"\"\".split('|||')\n",
    "\n",
    "prompts_labels = [label2id[label] for label in \"SPAM SPAM SPAM SPAM HAM SPAM HAM HAM HAM HAM\".split()]\n",
    "\n",
    "\n",
    "templates = [\n",
    "    StringTemplate(\n",
    "        template = prompt,\n",
    "        answer_choices = \"yes ||| no\",\n",
    "        label_maps = {'yes': prompts_labels[prompt_id], 'no': abs(prompts_labels[prompt_id]-1)},\n",
    "        )\n",
    "    for prompt_id, prompt in enumerate(ytb_prompts)\n",
    "]\n",
    "\n",
    "prompts = [\n",
    "    [\n",
    "        template.apply(example) for\n",
    "        example in youtube_train\n",
    "    ] for template in templates\n",
    "]"
   ]
  },
  {
   "cell_type": "code",
   "execution_count": 49,
   "id": "c22c835d",
   "metadata": {},
   "outputs": [
    {
     "data": {
      "application/vnd.jupyter.widget-view+json": {
       "model_id": "7eb3dc209e41410ca14e14e216c88066",
       "version_major": 2,
       "version_minor": 0
      },
      "text/plain": [
       "  0%|          | 0/10 [00:00<?, ?it/s]"
      ]
     },
     "metadata": {},
     "output_type": "display_data"
    }
   ],
   "source": [
    "import numpy as np\n",
    "from tqdm.auto import tqdm\n",
    "\n",
    "votes = np.zeros([len(youtube_train), len(ytb_prompts)])\n",
    "\n",
    "\n",
    "for template_id, template in enumerate(tqdm(templates)):\n",
    "    prompts = [template.apply(example) for example in youtube_train]\n",
    "    votes[:, template_id] = template.vote(T0pp(prompts))"
   ]
  },
  {
   "cell_type": "code",
   "execution_count": 50,
   "id": "31ef901a",
   "metadata": {},
   "outputs": [],
   "source": [
    "import scipy\n",
    "\n",
    "mv_labels = scipy.stats.mode(votes, axis=1).mode.flatten()"
   ]
  },
  {
   "cell_type": "code",
   "execution_count": 55,
   "id": "3cb1e66f",
   "metadata": {},
   "outputs": [
    {
     "data": {
      "text/plain": [
       "0.508"
      ]
     },
     "execution_count": 55,
     "metadata": {},
     "output_type": "execute_result"
    }
   ],
   "source": [
    "np.mean(mv_labels==youtube_train.labels)"
   ]
  }
 ],
 "metadata": {
  "kernelspec": {
   "display_name": "Python 3",
   "language": "python",
   "name": "python3"
  },
  "language_info": {
   "codemirror_mode": {
    "name": "ipython",
    "version": 3
   },
   "file_extension": ".py",
   "mimetype": "text/x-python",
   "name": "python",
   "nbconvert_exporter": "python",
   "pygments_lexer": "ipython3",
   "version": "3.8.3"
  }
 },
 "nbformat": 4,
 "nbformat_minor": 5
}
